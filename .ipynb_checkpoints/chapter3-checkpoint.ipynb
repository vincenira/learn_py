{
 "cells": [
  {
   "cell_type": "code",
   "execution_count": 1,
   "id": "12544864-58b1-40d0-b04a-854175a0e9a8",
   "metadata": {},
   "outputs": [
    {
     "data": {
      "text/plain": [
       "''"
      ]
     },
     "execution_count": 1,
     "metadata": {},
     "output_type": "execute_result"
    }
   ],
   "source": [
    "\"\"\"\n",
    "1. Devise an experiment to verify that the list index operator is \n",
    "\n",
    "2. Devise an experiment to verify that get item and set item are \n",
    " for dictionaries.\n",
    "\n",
    "3. Devise an experiment that compares the performance of the del operator on lists and dictionaries.\n",
    "\n",
    "4. Given a list of numbers in random order, write an algorithm that works in \n",
    " to find the kth smallest number in the list.\n",
    "\n",
    "5. Can you improve the algorithm from the previous problem to be linear? Explain.\n",
    "\n",
    "\"\"\""
   ]
  }
 ],
 "metadata": {
  "kernelspec": {
   "display_name": "Python 3 (ipykernel)",
   "language": "python",
   "name": "python3"
  },
  "language_info": {
   "codemirror_mode": {
    "name": "ipython",
    "version": 3
   },
   "file_extension": ".py",
   "mimetype": "text/x-python",
   "name": "python",
   "nbconvert_exporter": "python",
   "pygments_lexer": "ipython3",
   "version": "3.11.5"
  }
 },
 "nbformat": 4,
 "nbformat_minor": 5
}
