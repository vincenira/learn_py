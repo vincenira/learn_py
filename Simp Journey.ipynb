{
 "cells": [
  {
   "cell_type": "code",
   "execution_count": 1,
   "metadata": {},
   "outputs": [
    {
     "data": {
      "text/plain": [
       "'eimplicS'"
      ]
     },
     "execution_count": 1,
     "metadata": {},
     "output_type": "execute_result"
    }
   ],
   "source": [
    "def product (n, m):\n",
    "    return n*m\n",
    "product(3,4)\n",
    "\n",
    "MyName='Simplice'\n",
    "list(MyName)\n",
    "MyName[7:8]+MyName[1:7]+MyName[0:1]\n",
    "MyName[-1]+MyName[1:-1]+MyName[0]"
   ]
  },
  {
   "cell_type": "code",
   "execution_count": null,
   "metadata": {},
   "outputs": [],
   "source": [
    "#imperative programming\n",
    "print(\"Hello World\")\n",
    "print(3)\n"
   ]
  },
  {
   "cell_type": "code",
   "execution_count": null,
   "metadata": {},
   "outputs": [
    {
     "name": "stdout",
     "output_type": "stream",
     "text": [
      "What time is it? -5\n",
      "What time is it? 2500\n"
     ]
    }
   ],
   "source": [
    "done=False\n",
    "while not done:\n",
    "    try:\n",
    "        output=int(input(\"What time is it? \"))\n",
    "        if output >=0 and output < 2400:\n",
    "            done=True\n",
    "    except ValueError:\n",
    "        print(\"Incorrect value\")\n",
    "if output >= 0 and output <1200: \n",
    "    print(\"Good morning\")\n",
    "if output >=1200 and output <1800:\n",
    "    print(\"Good afternoon\")\n",
    "if output >=1800 and output <2400:\n",
    "    print(\"Good evening\")\n",
    "            \n",
    "            \n",
    "        \n",
    "            \n",
    "      \n",
    "        "
   ]
  },
  {
   "cell_type": "code",
   "execution_count": null,
   "metadata": {},
   "outputs": [],
   "source": []
  }
 ],
 "metadata": {
  "kernelspec": {
   "display_name": "Python 3",
   "language": "python",
   "name": "python3"
  },
  "language_info": {
   "codemirror_mode": {
    "name": "ipython",
    "version": 3
   },
   "file_extension": ".py",
   "mimetype": "text/x-python",
   "name": "python",
   "nbconvert_exporter": "python",
   "pygments_lexer": "ipython3",
   "version": "3.7.4"
  }
 },
 "nbformat": 4,
 "nbformat_minor": 2
}
