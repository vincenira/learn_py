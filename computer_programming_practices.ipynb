{
 "cells": [
  {
   "cell_type": "code",
   "execution_count": 1,
   "metadata": {},
   "outputs": [
    {
     "name": "stdout",
     "output_type": "stream",
     "text": [
      "6\n"
     ]
    }
   ],
   "source": [
    "import random\n",
    "num2 = random.randint(1, 9)\n",
    "print(num2)\n",
    "\n"
   ]
  },
  {
   "cell_type": "code",
   "execution_count": 16,
   "metadata": {},
   "outputs": [
    {
     "name": "stdout",
     "output_type": "stream",
     "text": [
      ".  .  1  9  .  .  4  .  .  \n",
      ".  .  .  .  .  .  6  .  .  \n",
      ".  .  .  .  .  .  .  .  .  \n",
      ".  .  .  .  .  .  .  .  .  \n",
      ".  .  7  .  .  .  .  .  .  \n",
      "5  .  9  .  .  .  .  .  .  \n",
      ".  .  .  .  .  .  .  .  .  \n",
      ".  .  .  .  .  .  .  .  .  \n",
      ".  8  .  .  .  .  .  .  .  \n",
      "\n",
      "Solution:\n",
      "\n",
      "2  3  1  9  5  6  4  7  8  \n",
      "4  5  8  1  2  7  6  3  9  \n",
      "7  9  6  3  4  8  1  2  5  \n",
      "1  2  3  4  6  5  8  9  7  \n",
      "8  4  7  2  1  9  3  5  6  \n",
      "5  6  9  7  8  3  2  1  4  \n",
      "3  1  5  6  7  4  9  8  2  \n",
      "6  7  2  8  9  1  5  4  3  \n",
      "9  8  4  5  3  2  7  6  1  \n"
     ]
    },
    {
     "name": "stdin",
     "output_type": "stream",
     "text": [
      "more ? \n"
     ]
    },
    {
     "name": "stdout",
     "output_type": "stream",
     "text": [
      "2  3  1  9  5  6  4  7  8  \n",
      "4  5  8  1  2  7  6  3  9  \n",
      "7  9  6  3  4  8  1  2  5  \n",
      "1  2  3  4  6  5  8  9  7  \n",
      "8  4  7  2  1  9  3  5  6  \n",
      "5  6  9  7  8  3  2  1  4  \n",
      "3  1  5  6  7  4  9  8  2  \n",
      "9  7  4  8  3  2  5  6  1  \n",
      "6  8  2  5  9  1  7  4  3  \n"
     ]
    },
    {
     "ename": "KeyboardInterrupt",
     "evalue": "Interrupted by user",
     "output_type": "error",
     "traceback": [
      "\u001b[1;31m---------------------------------------------------------------------------\u001b[0m",
      "\u001b[1;31mKeyboardInterrupt\u001b[0m                         Traceback (most recent call last)",
      "Cell \u001b[1;32mIn[16], line 79\u001b[0m\n\u001b[0;32m     77\u001b[0m     \u001b[38;5;28mprint\u001b[39m(\u001b[38;5;124m\"\u001b[39m\u001b[38;5;124m\"\u001b[39m)\n\u001b[0;32m     78\u001b[0m     solve()\n\u001b[1;32m---> 79\u001b[0m main()\n",
      "Cell \u001b[1;32mIn[16], line 78\u001b[0m, in \u001b[0;36mmain\u001b[1;34m()\u001b[0m\n\u001b[0;32m     76\u001b[0m \u001b[38;5;28mprint\u001b[39m(\u001b[38;5;124m\"\u001b[39m\u001b[38;5;124mSolution:\u001b[39m\u001b[38;5;124m\"\u001b[39m)\n\u001b[0;32m     77\u001b[0m \u001b[38;5;28mprint\u001b[39m(\u001b[38;5;124m\"\u001b[39m\u001b[38;5;124m\"\u001b[39m)\n\u001b[1;32m---> 78\u001b[0m solve()\n",
      "Cell \u001b[1;32mIn[16], line 58\u001b[0m, in \u001b[0;36msolve\u001b[1;34m()\u001b[0m\n\u001b[0;32m     56\u001b[0m     \u001b[38;5;28;01mif\u001b[39;00m possible_solve(i, j, n):\n\u001b[0;32m     57\u001b[0m         grid[i][j] \u001b[38;5;241m=\u001b[39m n\n\u001b[1;32m---> 58\u001b[0m         solve()\n\u001b[0;32m     59\u001b[0m         grid[i][j] \u001b[38;5;241m=\u001b[39m \u001b[38;5;241m0\u001b[39m\n\u001b[0;32m     60\u001b[0m \u001b[38;5;28;01mreturn\u001b[39;00m\n",
      "Cell \u001b[1;32mIn[16], line 58\u001b[0m, in \u001b[0;36msolve\u001b[1;34m()\u001b[0m\n\u001b[0;32m     56\u001b[0m     \u001b[38;5;28;01mif\u001b[39;00m possible_solve(i, j, n):\n\u001b[0;32m     57\u001b[0m         grid[i][j] \u001b[38;5;241m=\u001b[39m n\n\u001b[1;32m---> 58\u001b[0m         solve()\n\u001b[0;32m     59\u001b[0m         grid[i][j] \u001b[38;5;241m=\u001b[39m \u001b[38;5;241m0\u001b[39m\n\u001b[0;32m     60\u001b[0m \u001b[38;5;28;01mreturn\u001b[39;00m\n",
      "    \u001b[1;31m[... skipping similar frames: solve at line 58 (70 times)]\u001b[0m\n",
      "Cell \u001b[1;32mIn[16], line 58\u001b[0m, in \u001b[0;36msolve\u001b[1;34m()\u001b[0m\n\u001b[0;32m     56\u001b[0m     \u001b[38;5;28;01mif\u001b[39;00m possible_solve(i, j, n):\n\u001b[0;32m     57\u001b[0m         grid[i][j] \u001b[38;5;241m=\u001b[39m n\n\u001b[1;32m---> 58\u001b[0m         solve()\n\u001b[0;32m     59\u001b[0m         grid[i][j] \u001b[38;5;241m=\u001b[39m \u001b[38;5;241m0\u001b[39m\n\u001b[0;32m     60\u001b[0m \u001b[38;5;28;01mreturn\u001b[39;00m\n",
      "Cell \u001b[1;32mIn[16], line 62\u001b[0m, in \u001b[0;36msolve\u001b[1;34m()\u001b[0m\n\u001b[0;32m     60\u001b[0m             \u001b[38;5;28;01mreturn\u001b[39;00m\n\u001b[0;32m     61\u001b[0m print_out()\n\u001b[1;32m---> 62\u001b[0m \u001b[38;5;28minput\u001b[39m(\u001b[38;5;124m\"\u001b[39m\u001b[38;5;124mmore ?\u001b[39m\u001b[38;5;124m\"\u001b[39m)\n",
      "File \u001b[1;32m~\\anaconda3\\Lib\\site-packages\\ipykernel\\kernelbase.py:1202\u001b[0m, in \u001b[0;36mKernel.raw_input\u001b[1;34m(self, prompt)\u001b[0m\n\u001b[0;32m   1200\u001b[0m     msg \u001b[38;5;241m=\u001b[39m \u001b[38;5;124m\"\u001b[39m\u001b[38;5;124mraw_input was called, but this frontend does not support input requests.\u001b[39m\u001b[38;5;124m\"\u001b[39m\n\u001b[0;32m   1201\u001b[0m     \u001b[38;5;28;01mraise\u001b[39;00m StdinNotImplementedError(msg)\n\u001b[1;32m-> 1202\u001b[0m \u001b[38;5;28;01mreturn\u001b[39;00m \u001b[38;5;28mself\u001b[39m\u001b[38;5;241m.\u001b[39m_input_request(\n\u001b[0;32m   1203\u001b[0m     \u001b[38;5;28mstr\u001b[39m(prompt),\n\u001b[0;32m   1204\u001b[0m     \u001b[38;5;28mself\u001b[39m\u001b[38;5;241m.\u001b[39m_parent_ident[\u001b[38;5;124m\"\u001b[39m\u001b[38;5;124mshell\u001b[39m\u001b[38;5;124m\"\u001b[39m],\n\u001b[0;32m   1205\u001b[0m     \u001b[38;5;28mself\u001b[39m\u001b[38;5;241m.\u001b[39mget_parent(\u001b[38;5;124m\"\u001b[39m\u001b[38;5;124mshell\u001b[39m\u001b[38;5;124m\"\u001b[39m),\n\u001b[0;32m   1206\u001b[0m     password\u001b[38;5;241m=\u001b[39m\u001b[38;5;28;01mFalse\u001b[39;00m,\n\u001b[0;32m   1207\u001b[0m )\n",
      "File \u001b[1;32m~\\anaconda3\\Lib\\site-packages\\ipykernel\\kernelbase.py:1245\u001b[0m, in \u001b[0;36mKernel._input_request\u001b[1;34m(self, prompt, ident, parent, password)\u001b[0m\n\u001b[0;32m   1242\u001b[0m \u001b[38;5;28;01mexcept\u001b[39;00m \u001b[38;5;167;01mKeyboardInterrupt\u001b[39;00m:\n\u001b[0;32m   1243\u001b[0m     \u001b[38;5;66;03m# re-raise KeyboardInterrupt, to truncate traceback\u001b[39;00m\n\u001b[0;32m   1244\u001b[0m     msg \u001b[38;5;241m=\u001b[39m \u001b[38;5;124m\"\u001b[39m\u001b[38;5;124mInterrupted by user\u001b[39m\u001b[38;5;124m\"\u001b[39m\n\u001b[1;32m-> 1245\u001b[0m     \u001b[38;5;28;01mraise\u001b[39;00m \u001b[38;5;167;01mKeyboardInterrupt\u001b[39;00m(msg) \u001b[38;5;28;01mfrom\u001b[39;00m \u001b[38;5;28;01mNone\u001b[39;00m\n\u001b[0;32m   1246\u001b[0m \u001b[38;5;28;01mexcept\u001b[39;00m \u001b[38;5;167;01mException\u001b[39;00m:\n\u001b[0;32m   1247\u001b[0m     \u001b[38;5;28mself\u001b[39m\u001b[38;5;241m.\u001b[39mlog\u001b[38;5;241m.\u001b[39mwarning(\u001b[38;5;124m\"\u001b[39m\u001b[38;5;124mInvalid Message:\u001b[39m\u001b[38;5;124m\"\u001b[39m, exc_info\u001b[38;5;241m=\u001b[39m\u001b[38;5;28;01mTrue\u001b[39;00m)\n",
      "\u001b[1;31mKeyboardInterrupt\u001b[0m: Interrupted by user"
     ]
    }
   ],
   "source": [
    "import random\n",
    "\"\"\"\n",
    "To initialize a two-dimensional list in Python, use\n",
    "t = [ [0]*3 for i in range(3)]\n",
    "But don't use [[v]*n]*n, it is a trap!\n",
    "\"\"\"\n",
    "\n",
    "def possible(x,y):\n",
    "    global grid\n",
    "    multiplier_pos_x = x//3\n",
    "    multiplier_pos_y = y//3\n",
    "    for i in range(0, 9):\n",
    "        if grid[x][y] == grid[x][i] and y != i:\n",
    "            return False\n",
    "    for i in range(0, 9):\n",
    "        if grid[x][y] == grid[i][y] and x != i:\n",
    "            return False\n",
    "    for i in range(0,3):\n",
    "        for j in range(0, 3):\n",
    "            if grid[multiplier_pos_x * 3 + i][multiplier_pos_y * 3 + j] == grid[x][y] and y != j and x != i:\n",
    "                return False\n",
    "    return True\n",
    "def possible_solve(x,y,n):\n",
    "    global grid\n",
    "    multiplier_pos_x = x//3\n",
    "    multiplier_pos_y = y//3\n",
    "    for i in range(0, 9):\n",
    "        if n == grid[x][i]:\n",
    "            return False\n",
    "    for i in range(0, 9):\n",
    "        if n == grid[i][y]:\n",
    "            return False\n",
    "    for i in range(0,3):\n",
    "        for j in range(0, 3):\n",
    "            if grid[multiplier_pos_x * 3 + i][multiplier_pos_y * 3 + j] == n:\n",
    "                return False\n",
    "    return True\n",
    "    \n",
    "def generate_sudoku_grid():\n",
    "    global grid\n",
    "    grid =[ [0]*9 for i in range(9)]\n",
    "    numbers_of_squares_to_fill = random.randint(10, 20)\n",
    "    for square in range(numbers_of_squares_to_fill):\n",
    "        row_pos = random.randint(0, 8)\n",
    "        col_pos = random.randint(0, 8)\n",
    "        grid[row_pos][col_pos] = random.randint(1, 9) \n",
    "        if not possible(row_pos, col_pos):\n",
    "            grid[row_pos][col_pos] = 0\n",
    "    \n",
    "def solve():\n",
    "    global grid\n",
    "    for i in range(0, 9):\n",
    "        for j in range(0, 9):\n",
    "            if grid[i][j] == 0:\n",
    "                for n in range(1, 10):\n",
    "                    if possible_solve(i, j, n):\n",
    "                        grid[i][j] = n\n",
    "                        solve()\n",
    "                        grid[i][j] = 0\n",
    "                return\n",
    "    print_out()\n",
    "    input(\"more ?\")\n",
    "def print_out():\n",
    "    for i in range(0, 9):\n",
    "        for j in range(0, 9):\n",
    "            if grid[i][j] == 0:\n",
    "                print(\". \", end=\" \")\n",
    "            else:\n",
    "                print(f\"{grid[i][j]} \", end=\" \")\n",
    "        print(\"\")\n",
    "def main():\n",
    "    global grid\n",
    "    generate_sudoku_grid()\n",
    "    print_out()\n",
    "    print(\"\")\n",
    "    print(\"Solution:\")\n",
    "    print(\"\")\n",
    "    solve()\n",
    "main()"
   ]
  },
  {
   "cell_type": "code",
   "execution_count": null,
   "metadata": {},
   "outputs": [],
   "source": []
  }
 ],
 "metadata": {
  "kernelspec": {
   "display_name": "Python 3 (ipykernel)",
   "language": "python",
   "name": "python3"
  },
  "language_info": {
   "codemirror_mode": {
    "name": "ipython",
    "version": 3
   },
   "file_extension": ".py",
   "mimetype": "text/x-python",
   "name": "python",
   "nbconvert_exporter": "python",
   "pygments_lexer": "ipython3",
   "version": "3.11.5"
  }
 },
 "nbformat": 4,
 "nbformat_minor": 4
}
