{
 "cells": [
  {
   "cell_type": "code",
   "execution_count": null,
   "metadata": {},
   "outputs": [
    {
     "data": {
      "text/plain": [
       "'AB'"
      ]
     },
     "execution_count": 15,
     "metadata": {},
     "output_type": "execute_result"
    }
   ],
   "source": [
    "\"\"\"\n",
    "Greatest Common Divisor of Strings\n",
    "Algorithm\n",
    "\n",
    "    Find the shorter string among str1 and str2, without loss of generality, let it be str1.\n",
    "\n",
    "    Start with base = str1, and check if both str1 and str2 are made of multiples of base.\n",
    "        If so, return base.\n",
    "        Otherwise, we shall try a shorter string by removing the last character from base.\n",
    "\n",
    "    If we have checked all prefix strings without finding the GCD string, return \"\".\n",
    "\n",
    "\"\"\"\n",
    "def gcdOfStrings(str1: str, str2: str) -> str:\n",
    "    len1, len2 = len(str1), len(str2)\n",
    "    \n",
    "    def valid(k):\n",
    "        if len1 % k or len2 % k: \n",
    "            return False\n",
    "        n1, n2 = len1 // k, len2 // k\n",
    "        base = str1[:k]\n",
    "        \n",
    "        return str1 == n1 * base and str2 == n2 * base \n",
    "    \n",
    "    for i in range(min(len1, len2), 0, -1):\n",
    "        if valid(i):\n",
    "            return str1[:i]\n",
    "    return \"\"\n",
    "\n",
    "gcdOfStrings(\"ABCABC\", \"ABC\")\n",
    "\n",
    "gcdOfStrings(\"ABCDEF\", \"ABC\")\n",
    "\n",
    "gcdOfStrings(\"TAUXXTAUXXTAUXXTAUXXTAUXX\", \"TAUXXTAUXXTAUXXTAUXXTAUXXTAUXXTAUXXTAUXXTAUXX\")\n",
    "gcdOfStrings(\"ABABABAB\", \"ABAB\")\n",
    "    "
   ]
  },
  {
   "cell_type": "code",
   "execution_count": null,
   "metadata": {},
   "outputs": [],
   "source": []
  }
 ],
 "metadata": {
  "kernelspec": {
   "display_name": "Python 3",
   "language": "python",
   "name": "python3"
  },
  "language_info": {
   "codemirror_mode": {
    "name": "ipython",
    "version": 3
   },
   "file_extension": ".py",
   "mimetype": "text/x-python",
   "name": "python",
   "nbconvert_exporter": "python",
   "pygments_lexer": "ipython3",
   "version": "3.12.6"
  }
 },
 "nbformat": 4,
 "nbformat_minor": 2
}
